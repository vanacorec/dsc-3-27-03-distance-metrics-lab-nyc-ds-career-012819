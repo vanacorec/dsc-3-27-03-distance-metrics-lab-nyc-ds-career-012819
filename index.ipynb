{
 "cells": [
  {
   "cell_type": "markdown",
   "metadata": {},
   "source": [
    "# Distance Metrics - Lab\n",
    "\n",
    "## Introduction\n",
    "\n",
    "In this lab, we'll calculate various distances between multiple points using the distance metrics we learned about!\n",
    "\n",
    "## Objectives\n",
    "\n",
    "You will be able to:\n",
    "\n",
    "* Calculate Euclidean Distance between 2 points\n",
    "* Calculate Manhattan Distance between 2 points\n",
    "* Compare and Contrast Manhattan, Euclidean, and Minkowski Distance\n",
    "\n",
    "## Getting Started\n",
    "\n",
    "To begin this lab, we'll start by writing a generalized function to calculate any of the three distance metrics we've learned about. Let's review what we know so far:\n",
    "\n",
    "## How These Distance Metrics Are Related\n",
    "\n",
    "Recall from the previous lesson that **_Manhattan Distance_** and **_Euclidean Distance_** are both just special cases of **_Minkowski Distance_**. Take a look at the formula for Minkowski Distance below:\n",
    "\n",
    "<img src='minkowski-equation.png'>\n",
    "\n",
    "**_Manhattan Distance_** is a special case where $r=1$ in the equation above (which means that we can remove the root operation and just keep the summation).  \n",
    "\n",
    "**_Euclidean Distance_** is a special case where $r=2$ in the equation above.\n",
    "\n",
    "Knowing this, we can create a generalized `distance` function that just calculates minkowski distance, and takes in `r` as a parameter. That way, we can use the same function for every problem, and still calculate Manhattan and Euclidean distance metrics by just passing in the appropriate values for the `r` parameter!\n",
    "\n",
    "In the cell below:\n",
    "\n",
    "* Complete the `distance` function. \n",
    "* This function should take in 3 arguments:\n",
    "    * `a`, a tuple or array that describes a vector in n-dimensional space. \n",
    "    * `b`, a tuple or array that describes a vector in n-dimensional space (this must be the same length as `a`!)\n",
    "    * `r`, which tells us the norm to calculate the vector space (if set to `1`, the result will be Manhattan, while `2` will calculate Euclidean distance)\n",
    "* Since euclidean distance is the most common distance metric used, this function should default to using `r=2` if no value is set for `r`.\n",
    "* Include a parameter called `verbose` which is set to `True` by default. If true, the function should print out if the distance metric returned is a measurement of Manhattan, Euclidean, or Minkowski distance.  \n",
    "* This function should implement the minkowski distance equation above, and return the result. \n",
    "\n",
    "**_NOTE:_**  Remember that for Manhattan Distance, you need to make use of `np.abs()` to get the absolute value of the distance for each dimension, since we don't have the squaring function to make this positive for us!\n",
    "\n",
    "**_HINT:_** Use `np.power()` as an easy way to implement both squares and square roots. `np.power(a, 3)` will return the cube of `a`, while `np.power(a, 1/3)` will return the cube root of 3. For more information on this function, see the numpy [documentation](https://docs.scipy.org/doc/numpy-1.15.1/reference/generated/numpy.power.html)!"
   ]
  },
  {
   "cell_type": "code",
   "execution_count": 3,
   "metadata": {},
   "outputs": [
    {
     "name": "stdout",
     "output_type": "stream",
     "text": [
      "5.0\n",
      "7.0\n",
      "4.497941445275415\n"
     ]
    }
   ],
   "source": [
    "import numpy as np\n",
    "\n",
    "# Complete this function! \n",
    "def distance(a, b, r=2):\n",
    "    if len(a) != len(b):\n",
    "        raise ValueError(\"vectors need to be of equal length\")\n",
    "        \n",
    "    running_total = 0\n",
    "    \n",
    "    for index,value_a in enumerate(a):\n",
    "        running_total += np.power(np.abs(value_a - b[index]), r)\n",
    "\n",
    "    return np.power(running_total, 1/r)\n",
    "\n",
    "\n",
    "test_point_1 = (1, 2)\n",
    "test_point_2 = (4, 6)\n",
    "print(distance(test_point_1, test_point_2)) # Expected Output: 5.0\n",
    "print(distance(test_point_1, test_point_2, r=1)) # Expected Output: 7.0\n",
    "print(distance(test_point_1, test_point_2, r=3)) # Expected Output: 4.497941445275415"
   ]
  },
  {
   "cell_type": "markdown",
   "metadata": {},
   "source": [
    "Great job! \n",
    "\n",
    "Now, let's use the function so solve some practice problems.\n",
    "\n",
    "## Problem 1:\n",
    "\n",
    "Calculate the **_Euclidean Distance_** between the following points in 5-dimensional space:\n",
    "\n",
    "Point 1: (-2, -3.4, 4, 15, 7)\n",
    "\n",
    "Point 2: (3, -1.2, -2, -1, 7)"
   ]
  },
  {
   "cell_type": "code",
   "execution_count": 17,
   "metadata": {},
   "outputs": [
    {
     "data": {
      "text/plain": [
       "17.939899665271266"
      ]
     },
     "execution_count": 17,
     "metadata": {},
     "output_type": "execute_result"
    }
   ],
   "source": [
    "point_1 = [-2,-3.4,4,15,7]\n",
    "point_2 = [3, -1.2, -2, -1, 7]\n",
    "\n",
    "\n",
    "\n",
    "distance(point_1, point_2, 2)  \n",
    "    \n",
    "    # Expected Output: 17.939899665271266"
   ]
  },
  {
   "cell_type": "markdown",
   "metadata": {},
   "source": [
    "## Problem 2:\n",
    "\n",
    "Calculate the **_Manhattan Distance_** between the following points in 10-dimensional space:\n",
    "\n",
    "Point 1: \\[0, 0, 0, 7, 16, 2, 0, 1, 2, 1\\]  \n",
    "Point 2: \\[1, -1, 5, 7, 14, 3, -2, 3, 3, 6\\]"
   ]
  },
  {
   "cell_type": "code",
   "execution_count": 19,
   "metadata": {},
   "outputs": [
    {
     "data": {
      "text/plain": [
       "20.0"
      ]
     },
     "execution_count": 19,
     "metadata": {},
     "output_type": "execute_result"
    }
   ],
   "source": [
    "Point_1 = [0, 0, 0, 7, 16, 2, 0, 1, 2, 1]\n",
    "Point_2 =  [1, -1, 5, 7, 14, 3, -2, 3, 3, 6]\n",
    "\n",
    "distance(Point_1, Point_2, 1)\n",
    "\n",
    "\n",
    "\n",
    "# Expected Output: 20"
   ]
  },
  {
   "cell_type": "markdown",
   "metadata": {},
   "source": [
    "## Problem 3: \n",
    "\n",
    "Calculate the **_Minkowski Distance_** with a norm of 3.5 between the following points:\n",
    "\n",
    "Point 1: (-2, 7, 3.4)\n",
    "Point 2: (3, 4, 1.5)"
   ]
  },
  {
   "cell_type": "code",
   "execution_count": 31,
   "metadata": {},
   "outputs": [
    {
     "name": "stdout",
     "output_type": "stream",
     "text": [
      "753.9544012205047\n",
      "49.12752783141338\n",
      "19.97411489554371\n",
      "12.833369774402511\n",
      "9.9\n",
      "8.36689810597748\n",
      "7.448436088708126\n",
      "6.8485233785468855\n",
      "6.4329493321731395\n",
      "6.132699242584786\n",
      "5.908874097140145\n",
      "5.737968816509579\n",
      "5.604985755328779\n",
      "5.499929784657178\n",
      "5.41589964155518\n",
      "5.347989204120525\n",
      "5.292624920692467\n",
      "5.247150165626501\n",
      "5.2095554954471925\n",
      "5.178298360745649\n",
      "5.15217946978256\n",
      "5.130256068320937\n",
      "5.111779893088137\n",
      "5.096151993573655\n",
      "5.082889321820591\n",
      "5.071599682392741\n",
      "5.061962719132103\n",
      "5.053715325335617\n",
      "5.046640338159674\n",
      "5.040557700563029\n",
      "5.035317497149551\n",
      "5.0307944269391704\n",
      "5.026883387709852\n",
      "5.023495927116698\n",
      "5.020557374647352\n",
      "5.018004511943378\n",
      "5.015783671452576\n",
      "5.013849177805333\n",
      "5.012162064863687\n",
      "5.010689015598436\n",
      "5.009401482905608\n",
      "5.008274957980125\n",
      "5.007288359510046\n",
      "5.006423522177005\n",
      "5.005664767074114\n",
      "5.004998539928722\n",
      "5.004413105631125\n",
      "5.0038982896650195\n",
      "5.0034452587212295\n",
      "5.003046334138435\n",
      "5.00269483291944\n",
      "5.002384931970973\n",
      "5.002111551949663\n",
      "5.001870257699031\n",
      "5.0016571727574375\n",
      "5.001468905825183\n",
      "5.001302487416764\n",
      "5.00115531520433\n",
      "5.001025106791483\n",
      "5.000909858850766\n",
      "5.000807811720705\n",
      "5.000717418694336\n",
      "5.000637319345565\n",
      "5.000566316335937\n",
      "5.000503355225657\n",
      "5.000447506881414\n",
      "5.000397952131708\n",
      "5.000353968369859\n",
      "5.000314917846827\n",
      "5.000280237431868\n",
      "5.000249429649522\n",
      "5.000222054827647\n",
      "5.000197724213535\n",
      "5.000176093934401\n",
      "5.0001568596949495\n",
      "5.000139752118995\n",
      "5.000124532654305\n",
      "5.000110989970315\n",
      "5.000098936787592\n",
      "5.000088207085714\n",
      "5.000078653643024\n",
      "5.000070145867767\n",
      "5.000062567885062\n",
      "5.000055816848789\n",
      "5.000049801451206\n",
      "5.0000444406065805\n",
      "5.0000396622880245\n",
      "5.0000354024992415\n",
      "5.000031604365223\n",
      "5.0000282173277855\n",
      "5.000025196433629\n",
      "5.000022501704019\n",
      "5.000020097576562\n",
      "5.000017952410667\n",
      "5.000016038049265\n",
      "5.0000143294302815\n",
      "5.000012804242106\n",
      "5.000011442617983\n",
      "5.000010226864861\n"
     ]
    }
   ],
   "source": [
    "Point1 = [-2, 7, 3.4]\n",
    "Point2 = [3, 4, 1.5] \n",
    "\n",
    "for i in np.arange(0.2,20, .2):\n",
    "    print(distance(Point1, Point2, i))    \n",
    "    \n",
    "\n",
    "    \n",
    "    # Expected Output: 5.268789659188307"
   ]
  },
  {
   "cell_type": "markdown",
   "metadata": {},
   "source": [
    "## Summary\n",
    "\n",
    "Great job! Now that we know how to calculate distance metrics, we can easily apply this to writing a K-Nearest Neighbors classifer from scratch!"
   ]
  }
 ],
 "metadata": {
  "kernelspec": {
   "display_name": "Python 3",
   "language": "python",
   "name": "python3"
  },
  "language_info": {
   "codemirror_mode": {
    "name": "ipython",
    "version": 3
   },
   "file_extension": ".py",
   "mimetype": "text/x-python",
   "name": "python",
   "nbconvert_exporter": "python",
   "pygments_lexer": "ipython3",
   "version": "3.6.6"
  }
 },
 "nbformat": 4,
 "nbformat_minor": 2
}
